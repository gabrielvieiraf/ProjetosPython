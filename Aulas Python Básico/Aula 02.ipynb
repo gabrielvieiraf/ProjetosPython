{
 "cells": [
  {
   "cell_type": "markdown",
   "id": "9086160d",
   "metadata": {},
   "source": [
    "# Como Fazer Funções no Python?"
   ]
  },
  {
   "cell_type": "code",
   "execution_count": 6,
   "id": "1849dcf8",
   "metadata": {},
   "outputs": [
    {
     "name": "stdout",
     "output_type": "stream",
     "text": [
      "[2, 3, 5, 6, 7, 8]\n",
      "[2, 6, 8]\n"
     ]
    }
   ],
   "source": [
    "#num = int(input(\"Digite um numero: \"))\n",
    "num =[2,3,5,6,7,8]\n",
    "\n",
    "def verifica(num):\n",
    "    par = []\n",
    "    for i in num:\n",
    "        if i % 2 == 0:\n",
    "            par.append(i)\n",
    "    return par"
   ]
  },
  {
   "cell_type": "code",
   "execution_count": 17,
   "id": "8978f0db",
   "metadata": {},
   "outputs": [
    {
     "data": {
      "text/plain": [
       "'11 Desfgoihjfgoihgfjhj'"
      ]
     },
     "execution_count": 17,
     "metadata": {},
     "output_type": "execute_result"
    }
   ],
   "source": [
    "# Nossos argumentos vão ser lidos de acordo com sua posição\n",
    "\n",
    "lista = [1,2,3,4,5,6,7,8,9,10]\n",
    "string = \" Desfgoihjfgoihgfjhj\"\n",
    "\n",
    "\n",
    "def next_available_row(worksheet_page, descricao):\n",
    "    return str(len(worksheet_page) + 1) + descricao\n",
    "\n",
    "\n",
    "next_available_row(descricao = string, worksheet_page = lista)"
   ]
  },
  {
   "cell_type": "markdown",
   "id": "bdea1f6d",
   "metadata": {},
   "source": [
    "### Declarando funções"
   ]
  },
  {
   "cell_type": "code",
   "execution_count": 46,
   "id": "d3d9d770",
   "metadata": {},
   "outputs": [],
   "source": [
    "def função(argumento1, argumento2):\n",
    "    print(argumento1, argumento2)"
   ]
  },
  {
   "cell_type": "markdown",
   "id": "4c73c85c",
   "metadata": {},
   "source": [
    "### Chamando funções"
   ]
  },
  {
   "cell_type": "code",
   "execution_count": 47,
   "id": "65247da1",
   "metadata": {},
   "outputs": [
    {
     "name": "stdout",
     "output_type": "stream",
     "text": [
      "argumento1 argumento2\n"
     ]
    }
   ],
   "source": [
    "função(\"argumento1\", \"argumento2\")"
   ]
  },
  {
   "cell_type": "markdown",
   "id": "406d6505",
   "metadata": {},
   "source": [
    "### 1) Faça um programa, com uma função que necessite de três argumentos, e que forneça a soma desses três argumentos."
   ]
  },
  {
   "cell_type": "code",
   "execution_count": 22,
   "id": "f33084a6",
   "metadata": {},
   "outputs": [
    {
     "data": {
      "text/plain": [
       "14"
      ]
     },
     "execution_count": 22,
     "metadata": {},
     "output_type": "execute_result"
    }
   ],
   "source": [
    "def soma(num, num2, num3):\n",
    "    return num + num2 + num3\n",
    "\n",
    "n1 = 9\n",
    "n2 = 2\n",
    "n3 = 3\n",
    "\n",
    "soma(num = n1,num3 =n2, num2 = n3)"
   ]
  },
  {
   "cell_type": "markdown",
   "id": "feb0005f",
   "metadata": {},
   "source": [
    "### 2) Faça um programa, com uma função que necessite de um argumento. A função retorna o valor de caractere ‘P’, se seu argumento for positivo, e ‘N’, se seu argumento for zero ou negativo."
   ]
  },
  {
   "cell_type": "code",
   "execution_count": 25,
   "id": "07138aca",
   "metadata": {},
   "outputs": [
    {
     "data": {
      "text/plain": [
       "'P'"
      ]
     },
     "execution_count": 25,
     "metadata": {},
     "output_type": "execute_result"
    }
   ],
   "source": [
    "def polaridade(numero):\n",
    "    if numero <= 0:\n",
    "        return \"N\"\n",
    "    return \"P\"\n",
    "\n",
    "n = 1\n",
    "\n",
    "polaridade(n)"
   ]
  },
  {
   "cell_type": "markdown",
   "id": "73835ad4",
   "metadata": {},
   "source": [
    "### 3) Faça um programa com uma função chamada somaImposto. \n",
    "\n",
    "### A função possui dois parâmetros formais: taxaImposto, que é a quantia de imposto sobre vendas expressa em porcentagem\n",
    "\n",
    "### custo, que é o custo de um item antes do imposto. \n",
    "\n",
    "### A função “altera” o valor de custo para incluir o imposto sobre vendas. "
   ]
  },
  {
   "cell_type": "code",
   "execution_count": 29,
   "id": "2dfcfbcc",
   "metadata": {},
   "outputs": [
    {
     "data": {
      "text/plain": [
       "2000"
      ]
     },
     "execution_count": 29,
     "metadata": {},
     "output_type": "execute_result"
    }
   ],
   "source": [
    "def somaImposto(taxaImposto, custo):\n",
    "    return custo * (1 + taxaImposto)\n",
    "\n",
    "somaImposto(1, 1000)"
   ]
  },
  {
   "cell_type": "markdown",
   "id": "d951c292",
   "metadata": {},
   "source": [
    "### 4) Faça uma função que informe a quantidade de dígitos de um determinado número inteiro informado."
   ]
  },
  {
   "cell_type": "code",
   "execution_count": 33,
   "id": "d4d3f655",
   "metadata": {},
   "outputs": [
    {
     "data": {
      "text/plain": [
       "1"
      ]
     },
     "execution_count": 33,
     "metadata": {},
     "output_type": "execute_result"
    }
   ],
   "source": [
    "def qnt_digitos(num):\n",
    "    return len(str(num))\n",
    "\n",
    "qnt_digitos(4)"
   ]
  },
  {
   "cell_type": "markdown",
   "id": "21dc4318",
   "metadata": {},
   "source": [
    "### 5) Reverso do número. Faça uma função que retorne o reverso de um número inteiro informado. Por exemplo: 127 -> 721"
   ]
  },
  {
   "cell_type": "code",
   "execution_count": 44,
   "id": "71a54ef6",
   "metadata": {},
   "outputs": [
    {
     "data": {
      "text/plain": [
       "54321"
      ]
     },
     "execution_count": 44,
     "metadata": {},
     "output_type": "execute_result"
    }
   ],
   "source": [
    "def num_rev(num):\n",
    "    return int(str(num)[::-1])\n",
    "\n",
    "n = 12345\n",
    "num_rev(n)"
   ]
  },
  {
   "cell_type": "code",
   "execution_count": null,
   "id": "fe33c12b",
   "metadata": {},
   "outputs": [],
   "source": []
  }
 ],
 "metadata": {
  "kernelspec": {
   "display_name": "Python 3 (ipykernel)",
   "language": "python",
   "name": "python3"
  },
  "language_info": {
   "codemirror_mode": {
    "name": "ipython",
    "version": 3
   },
   "file_extension": ".py",
   "mimetype": "text/x-python",
   "name": "python",
   "nbconvert_exporter": "python",
   "pygments_lexer": "ipython3",
   "version": "3.7.3"
  }
 },
 "nbformat": 4,
 "nbformat_minor": 5
}
