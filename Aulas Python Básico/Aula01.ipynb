{
  "nbformat": 4,
  "nbformat_minor": 0,
  "metadata": {
    "colab": {
      "name": "introducao_python.ipynb",
      "provenance": [],
      "include_colab_link": true
    },
    "kernelspec": {
      "name": "python3",
      "display_name": "Python 3"
    }
  },
  "cells": [
    {
      "cell_type": "markdown",
      "metadata": {
        "id": "view-in-github",
        "colab_type": "text"
      },
      "source": [
        "<a href=\"https://colab.research.google.com/github/gabrielvieiraf/ProjetosPython/blob/master/Iniciante/Aula01.ipynb\" target=\"_parent\"><img src=\"https://colab.research.google.com/assets/colab-badge.svg\" alt=\"Open In Colab\"/></a>"
      ]
    },
    {
      "cell_type": "markdown",
      "metadata": {
        "id": "jd3CTt1Gi5Tg"
      },
      "source": [
        "# [Comentários](https://www.w3schools.com/python/python_comments.asp)"
      ]
    },
    {
      "cell_type": "code",
      "metadata": {
        "id": "VphX58ZfiL78",
        "colab": {
          "base_uri": "https://localhost:8080/",
          "height": 35
        },
        "outputId": "600eacb2-0245-4c4c-c8df-9f499048403d"
      },
      "source": [
        "# Podemos comentar códigos a fim de torná-los mais simples de ser entendidos.\n",
        "# com '#' comentamos em uma única linha \n",
        "\n",
        "'''\n",
        "\n",
        "Já com 6 aspas simples, \n",
        "\"\"\"\n",
        "ou duplas,\n",
        "\"\"\"\n",
        "podemos comentar em uma linha ou mais.\n",
        "\n",
        "'''"
      ],
      "execution_count": 1,
      "outputs": [
        {
          "output_type": "execute_result",
          "data": {
            "application/vnd.google.colaboratory.intrinsic+json": {
              "type": "string"
            },
            "text/plain": [
              "'\\n\\nJá com 6 aspas simples, \\n\"\"\"\\nou duplas,\\n\"\"\"\\npodemos comentar em uma linha ou mais.\\n\\n'"
            ]
          },
          "metadata": {
            "tags": []
          },
          "execution_count": 1
        }
      ]
    },
    {
      "cell_type": "markdown",
      "metadata": {
        "id": "u6sX3G4ojECc"
      },
      "source": [
        "# Função [print()](https://www.w3schools.com/python/ref_func_print.asp)"
      ]
    },
    {
      "cell_type": "markdown",
      "metadata": {
        "id": "TzYqVHs-XoT8"
      },
      "source": [
        "Para imprimir resultados dos seus códigos,\n",
        "você pode usar a função print. "
      ]
    },
    {
      "cell_type": "markdown",
      "metadata": {
        "id": "6z0PfaTKlZ6L"
      },
      "source": [
        "Dentro das ( ) do print, passamos os argumentos para a função pra mostrá-los na tela."
      ]
    },
    {
      "cell_type": "code",
      "metadata": {
        "id": "EXW05BNlX4XI",
        "colab": {
          "base_uri": "https://localhost:8080/"
        },
        "outputId": "b57ed065-532f-461d-f7da-3db9481d3072"
      },
      "source": [
        "# Escrevendo o primeiro código em Python\n",
        "print('Olá mundo')"
      ],
      "execution_count": null,
      "outputs": [
        {
          "output_type": "stream",
          "text": [
            "Olá mundo\n"
          ],
          "name": "stdout"
        }
      ]
    },
    {
      "cell_type": "markdown",
      "metadata": {
        "id": "194diXrWX-F8"
      },
      "source": [
        "Se a função tiver mais de um argumento, você deverá utilizar uma vírgula para separá-los."
      ]
    },
    {
      "cell_type": "code",
      "metadata": {
        "id": "1sSSuVwzXy6K",
        "colab": {
          "base_uri": "https://localhost:8080/"
        },
        "outputId": "f79bf947-6118-4280-afa7-8b01d8f31d7a"
      },
      "source": [
        "#Exemplo: \n",
        "print('Olá mundo', 'Exemplo')"
      ],
      "execution_count": null,
      "outputs": [
        {
          "output_type": "stream",
          "text": [
            "Olá mundo Exemplo\n"
          ],
          "name": "stdout"
        }
      ]
    },
    {
      "cell_type": "markdown",
      "metadata": {
        "id": "0zFt1YnaYEtS"
      },
      "source": [
        "A função print contém três parâmetros:\n",
        "sep, end e file,\n",
        "\n",
        "Normalmente não vemos os parâmetros, pois eles vêm prédefinidos.\n",
        "predefinidos:\n",
        "\n",
        "\n",
        "*   sep ---> Espaço em branco entre os argumentos da função print.\n",
        "*   end ---> O padrão vêm como '\\n', que representa quebra de linha.\n",
        "*   file ---> Normalmente o fluxo de saída padrão é o terminal.\n",
        "Porém, pode ser alterado para um arquivo por exemplo."
      ]
    },
    {
      "cell_type": "code",
      "metadata": {
        "id": "nCrycndRjDYB",
        "colab": {
          "base_uri": "https://localhost:8080/"
        },
        "outputId": "735c6c2c-e13b-4d49-f22a-c4cc31bf73f9"
      },
      "source": [
        "# Escrevendo o terceiro código em Python\n",
        "print('Olá mundo', 'Este é meu terceiro programa', sep= '....', end='\\t')"
      ],
      "execution_count": null,
      "outputs": [
        {
          "output_type": "stream",
          "text": [
            "Olá mundo\n",
            "Olá mundo Exemplo\n",
            "Olá mundo....Este é meu terceiro programa\t"
          ],
          "name": "stdout"
        }
      ]
    },
    {
      "cell_type": "markdown",
      "metadata": {
        "id": "4xEXs6TjbOHC"
      },
      "source": [
        "# [Variável](https://www.w3schools.com/python/python_variables.asp)"
      ]
    },
    {
      "cell_type": "markdown",
      "metadata": {
        "id": "Mdm7OyDebeEv"
      },
      "source": [
        "Variáveis são usadas para guardarmos valores que serão usados no programa.\n",
        "\n",
        "Esses valores são atribuídos à variável com um sinal de igualdade ( = ), e podem ser alterados ao longo do programa."
      ]
    },
    {
      "cell_type": "code",
      "metadata": {
        "id": "ibrOjNwlbchP",
        "colab": {
          "base_uri": "https://localhost:8080/"
        },
        "outputId": "35d34112-b73d-4523-e199-dfa152488db7"
      },
      "source": [
        "# Exemplo de Variável maioridade\n",
        "\n",
        "# Maioriade no Brasil\n",
        "maioridade = 18\n",
        "\n",
        "# Podemos passar o argumento desse modo.\n",
        "print('A maioridade no Brasil é:', maioridade, end= ' anos.\\n')\n",
        "\n",
        "# Maioridade nos EUA\n",
        "maioridade = 21\n",
        "\n",
        "# Podemos passar o argumento desse modo.\n",
        "print('A maioridade nos EUA é: %s anos.' % maioridade)"
      ],
      "execution_count": null,
      "outputs": [
        {
          "output_type": "stream",
          "text": [
            "A maioridade no Brasil é: 18 anos.\n",
            "A maioridade nos EUA é: 21 anos.\n"
          ],
          "name": "stdout"
        }
      ]
    },
    {
      "cell_type": "markdown",
      "metadata": {
        "id": "iRV-pO3BcidH"
      },
      "source": [
        "Perceba que com a mesma variável 'maioridade', atribuímos valores diferentes. "
      ]
    },
    {
      "cell_type": "markdown",
      "metadata": {
        "id": "njQY5LNabSnQ"
      },
      "source": [
        "# [Tipos de Variável](https://www.w3schools.com/python/python_datatypes.asp)"
      ]
    },
    {
      "cell_type": "markdown",
      "metadata": {
        "id": "LgBQbFkNc9e7"
      },
      "source": [
        "Embora a linguagem Python não seja fortemente tipada, \n",
        "ou seja, não há a necessidade de declarar o tipo da variável ao criá-la, devemos saber a diferença entre os tipos de variáveis."
      ]
    },
    {
      "cell_type": "markdown",
      "metadata": {
        "id": "gnf9yJ-_df2k"
      },
      "source": [
        " No Exemplo anterior utilizamos uma variável chamada 'maioridade' e atribuímos valor para ela. Mas qual é o seu tipo? \n",
        "\n",
        " Podemos descobrir o tipo de uma variável usando a função type()."
      ]
    },
    {
      "cell_type": "code",
      "metadata": {
        "id": "1p59TfVZbdOe",
        "colab": {
          "base_uri": "https://localhost:8080/"
        },
        "outputId": "82fab953-800c-4cbf-d91d-c8f77d0356f6"
      },
      "source": [
        "# Descobrindo o tipo de uma variável\n",
        "type(maioridade)"
      ],
      "execution_count": null,
      "outputs": [
        {
          "output_type": "execute_result",
          "data": {
            "text/plain": [
              "int"
            ]
          },
          "metadata": {
            "tags": []
          },
          "execution_count": 6
        }
      ]
    },
    {
      "cell_type": "markdown",
      "metadata": {
        "id": "5Zl0yFPCeFUB"
      },
      "source": [
        "Tipos de variáveis em python:"
      ]
    },
    {
      "cell_type": "code",
      "metadata": {
        "id": "xKuWul1bkhsY",
        "colab": {
          "base_uri": "https://localhost:8080/"
        },
        "outputId": "568c8284-0f3e-49a4-8cbe-7048e9986518"
      },
      "source": [
        "# Inteiros\n",
        "tipo_maioridade = type(maioridade)\n",
        "print('O valor da maioridade é: %s\\ne o tipo é: %s\\n\\n' % (maioridade, tipo_maioridade) )\n",
        "\n",
        "# Ponto flutuante\n",
        "pi = 3.1415\n",
        "tipo_pi = type(pi)\n",
        "print('O valor do pi é: %s \\ne o tipo é: %s\\n\\n' % (pi, tipo_pi) )\n",
        "\n",
        "# Complexos\n",
        "x = 4 + 5j\n",
        "tipo_x = type(x)\n",
        "print('O valor do x é: %s \\ne o tipo é: %s \\n\\n' % (x , tipo_x) )\n",
        "\n",
        "# String\n",
        "nome = 'Gabriel Vieira'\n",
        "tipo_nome = type(nome)\n",
        "print('O valor do nome é: %s \\ne o tipo é: %s \\n\\n' % (nome, tipo_nome) )\n",
        "\n",
        "# Boolean\n",
        "b = True\n",
        "tipo_b = type(b)\n",
        "print('O valor do b é: %s \\ne o tipo é: %s \\n\\n' % (b, tipo_b) )\n",
        "\n",
        "# Valor vazio ou dado do tipo nulo\n",
        "x = None\n",
        "tipo_x = type(x)\n",
        "print('O valor do x é: %s \\ne o tipo é: %s' % (x , tipo_x) )\n"
      ],
      "execution_count": null,
      "outputs": [
        {
          "output_type": "stream",
          "text": [
            "O valor da maioridade é: 21\n",
            "e o tipo é: <class 'int'>\n",
            "\n",
            "\n",
            "O valor do pi é: 3.1415 \n",
            "e o tipo é: <class 'float'>\n",
            "\n",
            "\n",
            "O valor do x é: (4+5j) \n",
            "e o tipo é: <class 'complex'> \n",
            "\n",
            "\n",
            "O valor do nome é: Gabriel Vieira \n",
            "e o tipo é: <class 'str'> \n",
            "\n",
            "\n",
            "O valor do b é: True \n",
            "e o tipo é: <class 'bool'> \n",
            "\n",
            "\n",
            "O valor do x é: None \n",
            "e o tipo é: <class 'NoneType'>\n"
          ],
          "name": "stdout"
        }
      ]
    },
    {
      "cell_type": "markdown",
      "metadata": {
        "id": "1lKQEN_eZnbm"
      },
      "source": [
        "# Função [input()](https://www.w3schools.com/python/ref_func_input.asp)"
      ]
    },
    {
      "cell_type": "markdown",
      "metadata": {
        "id": "NTUTPzeJaHat"
      },
      "source": [
        "A função input() espera uma entrada do usuário pelo terminal.\n",
        "\n",
        "Após o usuário apertar a tecla enter, a função lê a entrada de dados como \n",
        "sendo uma **STRING**. "
      ]
    },
    {
      "cell_type": "code",
      "metadata": {
        "id": "psLtjtDQZrIS",
        "colab": {
          "base_uri": "https://localhost:8080/"
        },
        "outputId": "608347a4-e006-4d00-f150-f9321bc5de43"
      },
      "source": [
        "print('Programa para calcular a media de um aluno\\n\\n')\n",
        "\n",
        "nome = input('Entre com o nome do aluno: ')\n",
        "\n",
        "# Mesmo as entradas de um input sendo consideradas string, \n",
        "# podemos transformá-la em outros tipos para fazer cálculos. \n",
        "\n",
        "# Tipo float\n",
        "nota1 = float(input(\"Entre com a primeira nota: \"))\n",
        "\n",
        "# Tipo float\n",
        "nota2 = float(input(\"Entre com a segunda nota: \"))\n",
        "\n",
        "# Tipo float\n",
        "media = (nota1 + nota2)/2\n",
        "\n",
        "# Supondo que não existem notas quebradas, \n",
        "# Podemos arredondar a variável média e transformá-la em inteiro.\n",
        "media = int(round(media))\n",
        "\n",
        "print('Tipos: ', type(nome), type(nota1), type(nota2), type(media))\n",
        "\n",
        "print(nome, 'teve média igual a:', media)"
      ],
      "execution_count": null,
      "outputs": [
        {
          "output_type": "stream",
          "text": [
            "Programa para calcular a media de um aluno\n",
            "\n",
            "\n",
            "Entre com o nome do aluno: Gabriel Vieira\n",
            "Entre com a primeira nota: 8.6\n",
            "Entre com a segunda nota: 9.8\n",
            "Tipos:  <class 'str'> <class 'float'> <class 'float'> <class 'int'>\n",
            "Gabriel Vieira teve média igual a: 9\n"
          ],
          "name": "stdout"
        }
      ]
    },
    {
      "cell_type": "markdown",
      "metadata": {
        "id": "gZ3wZWZB6GJo"
      },
      "source": [
        "[#Operadores lógicos\n](https://www.w3schools.com/python/python_operators.asp)",
        "\n",
        "Operadores lógicos fazem uma algebra booleana e retornam valores lógicos."
      ]
    },
    {
      "cell_type": "code",
      "metadata": {
        "colab": {
          "base_uri": "https://localhost:8080/"
        },
        "id": "j-NVG2as7mX3",
        "outputId": "f7690002-f442-439d-85d9-de9987d73ad1"
      },
      "source": [
        "print('Operadores lógicos')\n",
        "\n",
        "\"\"\"\n",
        "Operador not (não)\n",
        "Retorna verdadeiro se for falso\n",
        "e falso se for verdadeiro.\n",
        "\"\"\"\n",
        "print('\\nOperador not')\n",
        "print(not True)\n",
        "print(not False)\n",
        "\n",
        "\n",
        "\"\"\"\n",
        "Operador and (e, &)\n",
        "Compara as variáveis retornando verdadeiro\n",
        "apenas se a primeria E a segunda forem verdadeiras.\n",
        "\"\"\"\n",
        "print('\\nOperador e')\n",
        "print(True and False)\n",
        "print(True and True)\n",
        "print(True & True)\n",
        "\n",
        "\n",
        "\"\"\"\n",
        "Operador or (ou, |)\n",
        "Compara as variáveis retornando verdadeiro\n",
        "se uma OU a outra for verdadeira.\n",
        "\"\"\"\n",
        "print('\\nOperador ou')\n",
        "print(True or True)\n",
        "print(True or False)\n",
        "print(True | False)\n",
        "print(False or False)\n"
      ],
      "execution_count": 15,
      "outputs": [
        {
          "output_type": "stream",
          "text": [
            "Operadores lógicos\n",
            "\n",
            "Operador not\n",
            "False\n",
            "True\n",
            "\n",
            "Operador e\n",
            "False\n",
            "True\n",
            "True\n",
            "\n",
            "Operador ou\n",
            "True\n",
            "True\n",
            "True\n",
            "False\n"
          ],
          "name": "stdout"
        }
      ]
    },
    {
      "cell_type": "markdown",
      "metadata": {
        "id": "b6K_4JtV-JB7"
      },
      "source": [
        "[#Operadores relacionais\n](https://www.w3schools.com/python/python_operators.asp)",
        "\n",
        "Para verficar certas condições entre variáveis utilizamos operadores lógicos, eles fazem comparações entre variáveis retornando valores lógicos (True/False)"
      ]
    },
    {
      "cell_type": "code",
      "metadata": {
        "colab": {
          "base_uri": "https://localhost:8080/"
        },
        "id": "upXCv78Z7yWe",
        "outputId": "427bd9ab-b933-47db-9bf6-8ebf5b3a5539"
      },
      "source": [
        "print('Operadores relacionais')\n",
        "\n",
        "\"\"\"\n",
        "Operador is (igual que, ==)\n",
        "Retorna verdadeiro se os dois forem iguais.\n",
        "\"\"\"\n",
        "print('\\nOperador is')\n",
        "print(3 is 3)\n",
        "print(5 is 3)\n",
        "print(5 == 5)\n",
        "\n",
        "\n",
        "\"\"\"\n",
        "Operador > (maior que)\n",
        "Retorna verdadeiro se o valor da esquerda\n",
        "for maior que o da direita.\n",
        "\"\"\"\n",
        "print('\\nOperador >')\n",
        "print(5 > 3)\n",
        "print(5 > 5)\n",
        "print(3 > 5)\n",
        "\n",
        "\n",
        "\"\"\"\n",
        "Operador < (menor que)\n",
        "Retorna verdadeiro se o valor da esquerda\n",
        "for menor que o da direita.\n",
        "\"\"\"\n",
        "print('\\nOperador <')\n",
        "print(5 < 3)\n",
        "print(5 < 5)\n",
        "print(3 < 5)\n",
        "\n",
        "\n",
        "\"\"\"\n",
        "Operador is not(diferente de, !=)\n",
        "Retorna verdadeiro se as duas varáveis forem diferentes.\n",
        "\"\"\"\n",
        "print('\\nOperador not is')\n",
        "print(3 is not 3)\n",
        "print(5 is not 3)\n",
        "print(5 != 3)\n",
        "\n",
        "\n",
        "\"\"\"\n",
        "Operador >= (maior ou igual que)\n",
        "Retorna verdadeiro se o valor da esquerda\n",
        "for maior ou igual que o da direita.\n",
        "\"\"\"\n",
        "print('\\nOperador >=')\n",
        "print(5 >= 3)\n",
        "print(5 >= 5)\n",
        "print(3 >= 5)\n",
        "\n",
        "\n",
        "\"\"\"\n",
        "Operador <= (menor ou igual que)\n",
        "Retorna verdadeiro se o valor da esquerda\n",
        "for menor ou igual que o da direita.\n",
        "\"\"\"\n",
        "print('\\nOperador <=')\n",
        "print(5 <= 3)\n",
        "print(5 <= 5)\n",
        "print(3 <= 5)"
      ],
      "execution_count": 19,
      "outputs": [
        {
          "output_type": "stream",
          "text": [
            "Operadores relacionais\n",
            "\n",
            "Operador is\n",
            "True\n",
            "False\n",
            "True\n",
            "\n",
            "Operador >\n",
            "True\n",
            "False\n",
            "False\n",
            "\n",
            "Operador <\n",
            "False\n",
            "False\n",
            "True\n",
            "\n",
            "Operador not is\n",
            "False\n",
            "True\n",
            "True\n",
            "\n",
            "Operador >=\n",
            "True\n",
            "True\n",
            "False\n",
            "\n",
            "Operador <=\n",
            "False\n",
            "True\n",
            "True\n"
          ],
          "name": "stdout"
        }
      ]
    },
    {
      "cell_type": "code",
      "metadata": {
        "id": "oFYOhoiv_Y35"
      },
      "source": [
        ""
      ],
      "execution_count": null,
      "outputs": []
    }
  ]
}
