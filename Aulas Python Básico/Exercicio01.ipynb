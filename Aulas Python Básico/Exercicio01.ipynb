{
  "nbformat": 4,
  "nbformat_minor": 0,
  "metadata": {
    "colab": {
      "name": "basico.ipynb",
      "provenance": [],
      "include_colab_link": true
    },
    "kernelspec": {
      "name": "python3",
      "display_name": "Python 3"
    }
  },
  "cells": [
    {
      "cell_type": "markdown",
      "metadata": {
        "id": "view-in-github",
        "colab_type": "text"
      },
      "source": [
        "<a href=\"https://colab.research.google.com/github/gabrielvieiraf/ProjetosPython/blob/master/Iniciante/Exercicios01.ipynb\" target=\"_parent\"><img src=\"https://colab.research.google.com/assets/colab-badge.svg\" alt=\"Open In Colab\"/></a>"
      ]
    },
    {
      "cell_type": "markdown",
      "metadata": {
        "id": "v2XGJzq_xgQR"
      },
      "source": [
        "\n",
        "\n",
        "> ### Exercício 01 \n",
        "\n",
        "Faça um programa que tenha como entrada a idade do usuário em dias e imprima essa idade em meses e anos.\n",
        "\n"
      ]
    },
    {
      "cell_type": "code",
      "metadata": {
        "id": "kGl2opZ5_FON",
        "colab": {
          "base_uri": "https://localhost:8080/",
          "height": 104
        },
        "outputId": "e3b9f5a2-85e8-4e9f-94c0-c01fb7abb177"
      },
      "source": [
        "try:\n",
        "  idade = int(input(\"Digite Sua idade em dias: \"))\n",
        "except:\n",
        "  print(\"Entrada Inválida\")\n",
        "\n",
        "meses = int(idade/30)\n",
        "anos = int(idade/365)\n",
        "\n",
        "print(f\"Sua idade em anos: {anos}\\n anos\")\n",
        "print(f\"Sua idade em meses: {meses}\\n meses\")\n",
        "print(f\"Sua idade em dias: {idade}\\n dia(s)\")"
      ],
      "execution_count": null,
      "outputs": [
        {
          "output_type": "stream",
          "text": [
            "Digite Sua idade em dias: 400\n",
            "Sua idade em meses:\n",
            " 13 meses\n",
            "Sua idade em anos:\n",
            " 1 ano(s)"
          ],
          "name": "stdout"
        }
      ]
    },
    {
      "cell_type": "markdown",
      "metadata": {
        "id": "EwNZSetwyzqH"
      },
      "source": [
        "\n",
        "\n",
        "> ## Exercício 02\n",
        "\n",
        "\n",
        "\n",
        "1.   Escreva um programa que tenha como entrada notas de duas provas e tire a média do aluno; \n",
        "2.   O programa deve ter como entrada as notas entre 0 e 10.\n",
        "3.   Caso o input esteja fora desse range, imprima: \"Valor inválido. Digite novamente\" e permita com que ele insira novamente a nota, até que digite um valor válido.\n",
        "4.   Após o cálculo da média, imprima um menu que pergunte se o usuário deseja fazer um novo cálculo de média. Caso não, o programa deve encerrar. \n",
        "\n",
        "Exemplo de menu = \"Novo calculo (1-Sim 2-Nao)\"\n",
        "\n",
        "\n",
        "\n",
        "\n"
      ]
    },
    {
      "cell_type": "code",
      "metadata": {
        "id": "EUR5tc0ITwe5",
        "colab": {
          "base_uri": "https://localhost:8080/"
        },
        "outputId": "9e999a15-ce2a-4816-f8cf-a8be53992271"
      },
      "source": [
        "while True:\n",
        "    try:\n",
        "      notas = []\n",
        "      x = 0\n",
        "      print(\"\\n\\nCálculo de Média:\\n\")\n",
        "      \n",
        "      while x!=2:\n",
        "        nota = float(input('Qual a {}ª nota? '.format(x+1))) \n",
        "      \n",
        "        while nota < 0 or nota >10:\n",
        "          print('Não foi digitado um número válido')\n",
        "          nota = float(input('Qual a {}ª nota? '.format(x+1))) \n",
        "        notas.append(nota)\n",
        "        x += 1\n",
        "\n",
        "      print('A média é {:.2f}'.format(sum(notas) / len(notas)))\n",
        "\n",
        "      flag = int(input('Novo calculo (1-Sim 2-Nao)'))\n",
        "      while flag <1 or flag >2:\n",
        "        print('Não foi digitada uma opção válida')\n",
        "        flag = int(input('Novo calculo (1-Sim 2-Nao)'))\n",
        "      if flag == 2:\n",
        "        break\n",
        "\n",
        "    except ValueError:\n",
        "        print('Não foi digitado um número válido')"
      ],
      "execution_count": null,
      "outputs": [
        {
          "output_type": "stream",
          "text": [
            "\n",
            "\n",
            "Cálculo de Média:\n",
            "\n",
            "Qual a 1ª nota? 0\n",
            "Qual a 2ª nota? 90\n",
            "Não foi digitado um número válido\n",
            "Qual a 2ª nota? 2\n",
            "A média é 1.00\n"
          ],
          "name": "stdout"
        }
      ]
    }
  ]
}
